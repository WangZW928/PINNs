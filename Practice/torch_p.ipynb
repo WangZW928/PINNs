{
 "cells": [
  {
   "cell_type": "code",
   "execution_count": 1,
   "id": "a933f490-635a-4a9e-b781-9561b07c8c7f",
   "metadata": {},
   "outputs": [],
   "source": [
    "import torch\n",
    "import numpy as np"
   ]
  },
  {
   "cell_type": "code",
   "execution_count": 2,
   "id": "1abf7b17-6467-4ce4-8878-f29771a0a042",
   "metadata": {},
   "outputs": [
    {
     "name": "stdout",
     "output_type": "stream",
     "text": [
      "torch.Size([4, 2])\n",
      "torch.FloatTensor\n",
      "tensor([[3.4065e-05, 0.0000e+00],\n",
      "        [0.0000e+00, 0.0000e+00],\n",
      "        [2.8175e+20, 1.7566e+25],\n",
      "        [1.7748e+28, 0.0000e+00]])\n"
     ]
    }
   ],
   "source": [
    "x = torch.Tensor(4,2)\n",
    "print(x.shape)\n",
    "print(x.type())\n",
    "print(x)"
   ]
  },
  {
   "cell_type": "code",
   "execution_count": 3,
   "id": "d1c920be-b0bc-4207-981e-a9f2b4cd7b06",
   "metadata": {},
   "outputs": [
    {
     "name": "stdout",
     "output_type": "stream",
     "text": [
      "tensor([[-0.2747, -1.6726],\n",
      "        [ 1.0553,  0.1154],\n",
      "        [-1.8894, -0.4363],\n",
      "        [ 0.8617,  0.6822]])\n"
     ]
    }
   ],
   "source": [
    "x = torch.randn(4,2)\n",
    "print(x)"
   ]
  },
  {
   "cell_type": "code",
   "execution_count": 4,
   "id": "4c985c9e-199f-4ac8-91fd-e28e93e50ff5",
   "metadata": {},
   "outputs": [
    {
     "name": "stdout",
     "output_type": "stream",
     "text": [
      "tensor([[0.7355, 0.8325],\n",
      "        [0.3556, 0.5837],\n",
      "        [0.7332, 0.1187],\n",
      "        [0.6938, 0.8732]])\n"
     ]
    }
   ],
   "source": [
    "x = torch.rand(4,2)\n",
    "print(x)"
   ]
  },
  {
   "cell_type": "code",
   "execution_count": 5,
   "id": "02ee5131-59e5-4f91-aa46-432e81f1699a",
   "metadata": {},
   "outputs": [
    {
     "name": "stdout",
     "output_type": "stream",
     "text": [
      "tensor([[1., 1.],\n",
      "        [1., 1.],\n",
      "        [1., 1.],\n",
      "        [1., 1.]])\n"
     ]
    }
   ],
   "source": [
    "x = torch.ones(4,2)\n",
    "print(x)"
   ]
  },
  {
   "cell_type": "code",
   "execution_count": 6,
   "id": "4997ff99-1d6a-4cf9-b626-64e95695f726",
   "metadata": {},
   "outputs": [
    {
     "name": "stdout",
     "output_type": "stream",
     "text": [
      "tensor([[0., 0.],\n",
      "        [0., 0.],\n",
      "        [0., 0.],\n",
      "        [0., 0.]])\n"
     ]
    }
   ],
   "source": [
    "x = torch.zeros(4,2)\n",
    "print(x)"
   ]
  },
  {
   "cell_type": "code",
   "execution_count": 7,
   "id": "171ef13e-1b17-4bb3-bcd0-a8841477bca2",
   "metadata": {},
   "outputs": [
    {
     "name": "stdout",
     "output_type": "stream",
     "text": [
      "[2, 4, 6, 8]\n",
      "[1, 3, 5, 7]\n"
     ]
    }
   ],
   "source": [
    "l1 = []\n",
    "l2 = []\n",
    "for i in range(1,9):\n",
    "    if i%2 ==0 :\n",
    "        l1.append(i)\n",
    "    else:\n",
    "        l2.append(i)\n",
    "print(l1)\n",
    "print(l2)"
   ]
  },
  {
   "cell_type": "code",
   "execution_count": 8,
   "id": "f67bab75-a08c-4bd3-ae7a-aea02e767838",
   "metadata": {},
   "outputs": [
    {
     "name": "stdout",
     "output_type": "stream",
     "text": [
      "torch.Size([2, 4])\n",
      "torch.FloatTensor\n",
      "tensor([[2., 4., 6., 8.],\n",
      "        [1., 3., 5., 7.]])\n"
     ]
    }
   ],
   "source": [
    "x = torch.Tensor([l1,l2])\n",
    "print(x.shape)\n",
    "print(x.type())\n",
    "print(x)"
   ]
  },
  {
   "cell_type": "code",
   "execution_count": 9,
   "id": "b278435e-8f5f-4eba-b78e-5f234e1635e8",
   "metadata": {},
   "outputs": [
    {
     "name": "stdout",
     "output_type": "stream",
     "text": [
      "[[0.01990771 0.75868795]\n",
      " [0.19489275 0.51518399]\n",
      " [0.60818342 0.07595875]\n",
      " [0.80795935 0.06200587]]\n",
      "torch.Size([4, 2])\n",
      "torch.DoubleTensor\n",
      "tensor([[0.0199, 0.7587],\n",
      "        [0.1949, 0.5152],\n",
      "        [0.6082, 0.0760],\n",
      "        [0.8080, 0.0620]], dtype=torch.float64)\n",
      "torch.DoubleTensor\n"
     ]
    }
   ],
   "source": [
    "x = np.random.rand(4,2)\n",
    "print(x)\n",
    "x1 = torch.from_numpy(x)\n",
    "print(x1.shape)\n",
    "print(x1.type())\n",
    "print(x1)\n",
    "x1.long()\n",
    "print(x1.type())"
   ]
  },
  {
   "cell_type": "code",
   "execution_count": 10,
   "id": "7a22f0a1-7b67-4b8f-a020-a828189a7e45",
   "metadata": {},
   "outputs": [
    {
     "name": "stdout",
     "output_type": "stream",
     "text": [
      "tensor([[-0.9444,  0.6451],\n",
      "        [ 0.1270, -0.1355],\n",
      "        [-2.5650,  0.1729],\n",
      "        [-0.2216, -0.9316]])\n",
      "tensor([[ 0.0556,  1.6451],\n",
      "        [ 1.1270,  0.8645],\n",
      "        [-1.5650,  1.1729],\n",
      "        [ 0.7784,  0.0684]])\n"
     ]
    }
   ],
   "source": [
    "x = torch.ones(4,2)\n",
    "y = torch.randn(4,2)\n",
    "print(y)\n",
    "print(x+y)"
   ]
  },
  {
   "cell_type": "code",
   "execution_count": 11,
   "id": "57f7e6c7-7225-4e33-8330-5926a0e0d671",
   "metadata": {},
   "outputs": [
    {
     "name": "stdout",
     "output_type": "stream",
     "text": [
      "torch.Size([4, 4])\n",
      "torch.Size([2, 2])\n"
     ]
    }
   ],
   "source": [
    "x = torch.randn(4,2)\n",
    "y = torch.randn(2,4)\n",
    "z = torch.mm(x,y)\n",
    "print(z.shape)\n",
    "k = torch.mm(y,x)\n",
    "print(k.shape)"
   ]
  },
  {
   "cell_type": "code",
   "execution_count": 12,
   "id": "f745950e-8fb9-4a84-bdb4-7713087afcd1",
   "metadata": {},
   "outputs": [
    {
     "name": "stdout",
     "output_type": "stream",
     "text": [
      "tensor([[0.0022, 0.0107, 0.0308, 0.0242],\n",
      "        [0.0107, 0.8869, 1.1180, 0.2661],\n",
      "        [0.0308, 1.1180, 1.5575, 0.5147],\n",
      "        [0.0242, 0.2661, 0.5147, 0.2966]])\n"
     ]
    }
   ],
   "source": [
    "x = torch.randn(4,2)\n",
    "y = torch.t(x)\n",
    "z = torch.mm(x,y)\n",
    "print(z)"
   ]
  },
  {
   "cell_type": "code",
   "execution_count": 13,
   "id": "01942f5e-c10e-49a3-b4df-f8bdbf132f6b",
   "metadata": {},
   "outputs": [
    {
     "name": "stdout",
     "output_type": "stream",
     "text": [
      "tensor([[ 1.0378],\n",
      "        [ 0.6430],\n",
      "        [-0.8269],\n",
      "        [-0.1953]])\n",
      "tensor([[ 1.0378,  0.6430],\n",
      "        [-0.8269, -0.1953]])\n",
      "tensor([[ 1.0378,  0.6430, -0.8269, -0.1953]])\n"
     ]
    }
   ],
   "source": [
    "x = torch.randn(4,1)\n",
    "print(x)\n",
    "print(x.view(2,2))\n",
    "print(x.view(1,4))"
   ]
  },
  {
   "cell_type": "code",
   "execution_count": 14,
   "id": "0bb75ba8-c6ff-475b-b802-9d3efed6af06",
   "metadata": {},
   "outputs": [
    {
     "name": "stdout",
     "output_type": "stream",
     "text": [
      "tensor([[1., 1.],\n",
      "        [1., 1.],\n",
      "        [1., 1.],\n",
      "        [1., 1.]])\n",
      "tensor([4., 4.])\n",
      "tensor([2., 2., 2., 2.])\n"
     ]
    }
   ],
   "source": [
    "x = torch.ones(4,2)\n",
    "print(x)\n",
    "z = torch.sum(x,dim = 0)\n",
    "print(z)\n",
    "z = torch.sum(x,dim = 1)\n",
    "print(z)"
   ]
  },
  {
   "cell_type": "code",
   "execution_count": 15,
   "id": "adcccf29-8efc-498a-8ebe-69d0f9602837",
   "metadata": {},
   "outputs": [
    {
     "name": "stdout",
     "output_type": "stream",
     "text": [
      "tensor([[-0.2633,  0.8818],\n",
      "        [ 2.0058, -0.8544],\n",
      "        [ 0.1556, -0.3123],\n",
      "        [-0.6143, -0.5345]])\n",
      "tensor([[-0.2633,  0.8818]])\n",
      "tensor([[-0.2633,  0.8818],\n",
      "        [ 2.0058, -0.8544]])\n",
      "tensor([[-0.2633,  0.8818],\n",
      "        [ 2.0058, -0.8544],\n",
      "        [ 0.1556, -0.3123]])\n",
      "tensor([-0.2633,  2.0058,  0.1556, -0.6143])\n",
      "tensor([ 0.8818, -0.8544, -0.3123, -0.5345])\n",
      "tensor([-0.8544, -0.3123])\n"
     ]
    }
   ],
   "source": [
    "x = torch.randn(4,2)\n",
    "print(x)\n",
    "print(x[:1])\n",
    "print(x[:2])\n",
    "print(x[:3])\n",
    "print(x[:,0])\n",
    "print(x[:,1])\n",
    "print(x[1:3,1])"
   ]
  },
  {
   "cell_type": "code",
   "execution_count": 16,
   "id": "2b85b390-d56e-4fc0-8ebc-138c454d2e75",
   "metadata": {},
   "outputs": [
    {
     "name": "stdout",
     "output_type": "stream",
     "text": [
      "tensor([[ 0.2367,  0.1566, -1.3267],\n",
      "        [-1.2587, -1.0848, -1.2562],\n",
      "        [-1.6150, -0.6484, -0.5649]])\n",
      "--- --- --- ---\n",
      "tensor([[ 0.2367, -1.3267],\n",
      "        [-1.2587, -1.2562],\n",
      "        [-1.6150, -0.5649]])\n",
      "--- --- --- ---\n",
      "tensor([[ 0.2367,  0.1566, -1.3267],\n",
      "        [-1.6150, -0.6484, -0.5649]])\n"
     ]
    }
   ],
   "source": [
    "x = torch.randn(3,3)\n",
    "print(x)\n",
    "print(\"--- --- --- ---\")\n",
    "col_index = torch.LongTensor([0,2])\n",
    "y = torch.index_select(x,dim = 1, index = col_index)\n",
    "print(y)\n",
    "print(\"--- --- --- ---\")\n",
    "z = torch.index_select(x,dim=0,index = col_index)\n",
    "print(z)"
   ]
  },
  {
   "cell_type": "code",
   "execution_count": 17,
   "id": "6d62ec8f-0ff0-4058-b850-2eb69b7d7f2a",
   "metadata": {},
   "outputs": [
    {
     "name": "stdout",
     "output_type": "stream",
     "text": [
      "tensor([[ 1.5584],\n",
      "        [ 0.5313],\n",
      "        [-0.9380],\n",
      "        [ 0.2667]])\n",
      "----- ----- ----- -----\n",
      "tensor([[ 1.5584],\n",
      "        [ 0.5313],\n",
      "        [-0.9380],\n",
      "        [ 0.2667],\n",
      "        [ 1.5584],\n",
      "        [ 0.5313],\n",
      "        [-0.9380],\n",
      "        [ 0.2667]])\n",
      "----- ----- ----- -----\n",
      "tensor([[ 1.5584,  1.5584],\n",
      "        [ 0.5313,  0.5313],\n",
      "        [-0.9380, -0.9380],\n",
      "        [ 0.2667,  0.2667]])\n"
     ]
    }
   ],
   "source": [
    "x = torch.randn(4,1)\n",
    "print(x)\n",
    "print(\"----- ----- ----- -----\")\n",
    "y = torch.cat([x,x],dim=0)\n",
    "print(y)\n",
    "print(\"----- ----- ----- -----\")\n",
    "z = torch.cat([x,x],dim=1)\n",
    "print(z)"
   ]
  },
  {
   "cell_type": "code",
   "execution_count": 18,
   "id": "df4249f8-c327-491e-9f61-e0826d66ba42",
   "metadata": {},
   "outputs": [
    {
     "name": "stdout",
     "output_type": "stream",
     "text": [
      "tensor([[ 0.9503,  0.4713,  0.3010,  0.7411],\n",
      "        [ 0.1790, -1.5959, -0.1162,  1.0975],\n",
      "        [-0.4154,  0.4071, -0.5964,  1.2852]], requires_grad=True)\n"
     ]
    }
   ],
   "source": [
    "# for gradient!!\n",
    "x = torch.randn(3,4,requires_grad = True)\n",
    "print(x)"
   ]
  },
  {
   "cell_type": "code",
   "execution_count": 19,
   "id": "867dbd75-4b7a-40bc-8d8a-5b4102a91eb4",
   "metadata": {},
   "outputs": [
    {
     "name": "stdout",
     "output_type": "stream",
     "text": [
      "tensor([[ 4.8508,  3.4138,  2.9031,  4.2232],\n",
      "        [ 2.5371, -2.7878,  1.6514,  5.2924],\n",
      "        [ 0.7539,  3.2213,  0.2107,  5.8556]], grad_fn=<AddBackward0>)\n"
     ]
    }
   ],
   "source": [
    "y = 3*x + 2\n",
    "print(y)"
   ]
  },
  {
   "cell_type": "code",
   "execution_count": 20,
   "id": "3a0e3008-7c3b-4a64-ae38-cd2b9c92afda",
   "metadata": {},
   "outputs": [
    {
     "name": "stdout",
     "output_type": "stream",
     "text": [
      "tensor(2.6771, grad_fn=<MeanBackward0>)\n"
     ]
    }
   ],
   "source": [
    "z = y.mean()\n",
    "print(z)"
   ]
  },
  {
   "cell_type": "code",
   "execution_count": 21,
   "id": "d5730acf-e154-4895-93ed-c44622bf54c0",
   "metadata": {},
   "outputs": [],
   "source": [
    "#z.backward(retain_graph = True)\n",
    "z.backward()"
   ]
  },
  {
   "cell_type": "code",
   "execution_count": 22,
   "id": "d6b26b1e-b58c-47bd-8e6f-0ad37e5beee8",
   "metadata": {},
   "outputs": [
    {
     "name": "stdout",
     "output_type": "stream",
     "text": [
      "tensor(2.6771, grad_fn=<MeanBackward0>)\n"
     ]
    }
   ],
   "source": [
    "print(z)"
   ]
  },
  {
   "cell_type": "code",
   "execution_count": 23,
   "id": "09a994bd-706f-4744-b382-2d328a9ea5f0",
   "metadata": {},
   "outputs": [
    {
     "name": "stdout",
     "output_type": "stream",
     "text": [
      "tensor([[ 0.9503,  0.4713,  0.3010,  0.7411],\n",
      "        [ 0.1790, -1.5959, -0.1162,  1.0975],\n",
      "        [-0.4154,  0.4071, -0.5964,  1.2852]], requires_grad=True)\n"
     ]
    }
   ],
   "source": [
    "print(x)"
   ]
  },
  {
   "cell_type": "code",
   "execution_count": 24,
   "id": "5bd747a8-050d-4ab8-bbb1-c831273e7c2e",
   "metadata": {},
   "outputs": [
    {
     "name": "stdout",
     "output_type": "stream",
     "text": [
      "tensor([[0.2500, 0.2500, 0.2500, 0.2500],\n",
      "        [0.2500, 0.2500, 0.2500, 0.2500],\n",
      "        [0.2500, 0.2500, 0.2500, 0.2500]])\n"
     ]
    }
   ],
   "source": [
    "zx = x.grad\n",
    "print(zx)"
   ]
  },
  {
   "cell_type": "code",
   "execution_count": null,
   "id": "96056421-82b3-44ff-934c-81d062668378",
   "metadata": {},
   "outputs": [],
   "source": [
    "# for CUDA"
   ]
  },
  {
   "cell_type": "code",
   "execution_count": 26,
   "id": "a7f0e5f7-f99f-4665-8085-81348c78e8c5",
   "metadata": {},
   "outputs": [
    {
     "name": "stdout",
     "output_type": "stream",
     "text": [
      "True\n"
     ]
    }
   ],
   "source": [
    "print(torch.cuda.is_available())"
   ]
  },
  {
   "cell_type": "code",
   "execution_count": 28,
   "id": "33499bd0-8ec3-4fea-9e08-77869c68a0ac",
   "metadata": {},
   "outputs": [
    {
     "name": "stdout",
     "output_type": "stream",
     "text": [
      "torch.FloatTensor\n"
     ]
    }
   ],
   "source": [
    "x = torch.Tensor(3,4).to(\"cpu\")\n",
    "print(x.type())"
   ]
  },
  {
   "cell_type": "code",
   "execution_count": 29,
   "id": "0952bed1-25f1-4e46-82cb-f3c40a01709e",
   "metadata": {},
   "outputs": [
    {
     "name": "stdout",
     "output_type": "stream",
     "text": [
      "torch.FloatTensor\n"
     ]
    }
   ],
   "source": [
    "x = torch.Tensor(3,4)\n",
    "print(x.type())"
   ]
  },
  {
   "cell_type": "code",
   "execution_count": 30,
   "id": "beb739e6-5f65-427b-8e6c-447343b871c1",
   "metadata": {},
   "outputs": [
    {
     "name": "stdout",
     "output_type": "stream",
     "text": [
      "torch.cuda.FloatTensor\n"
     ]
    }
   ],
   "source": [
    "x = torch.Tensor(3,4).to(\"cuda\")\n",
    "print(x.type())"
   ]
  },
  {
   "cell_type": "code",
   "execution_count": null,
   "id": "2a00871f-0a8e-4626-8cc9-2984410e32b2",
   "metadata": {},
   "outputs": [],
   "source": []
  }
 ],
 "metadata": {
  "kernelspec": {
   "display_name": "Python 3 (ipykernel)",
   "language": "python",
   "name": "python3"
  },
  "language_info": {
   "codemirror_mode": {
    "name": "ipython",
    "version": 3
   },
   "file_extension": ".py",
   "mimetype": "text/x-python",
   "name": "python",
   "nbconvert_exporter": "python",
   "pygments_lexer": "ipython3",
   "version": "3.12.7"
  }
 },
 "nbformat": 4,
 "nbformat_minor": 5
}
