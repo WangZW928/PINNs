{
 "cells": [
  {
   "cell_type": "code",
   "execution_count": 1,
   "id": "26c5c987-314a-400b-a713-9d7b22010dcb",
   "metadata": {},
   "outputs": [],
   "source": [
    "# vocabulary : transfor input to number data\n",
    "# vectorizer: set data as vector\n",
    "# Dataset: process data's vectorizer\n",
    "# Model: torch model"
   ]
  },
  {
   "cell_type": "code",
   "execution_count": 6,
   "id": "902601e3-9a55-4324-b502-58deb30e5b51",
   "metadata": {},
   "outputs": [],
   "source": [
    "import os\n",
    "from argparse import Namespace\n",
    "import collections\n",
    "import json\n",
    "import matplotlib.pyplot as plt\n",
    "import numpy as np\n",
    "import pandas as pd\n",
    "import re\n",
    "import torch\n",
    "import pprint"
   ]
  },
  {
   "cell_type": "code",
   "execution_count": 4,
   "id": "ea2bab07-6084-440b-ad0b-7f8dfc3c497f",
   "metadata": {},
   "outputs": [],
   "source": [
    "def set_seeds(seed,cuda):\n",
    "    np.random.seed(seed)\n",
    "    torch.manual_seed(seed)\n",
    "    if cuda :\n",
    "        torch.cuda.manual_seed_all(seed)"
   ]
  },
  {
   "cell_type": "code",
   "execution_count": 5,
   "id": "ac3a7c0f-94c9-4b5c-a2fe-d6f975e5c59a",
   "metadata": {},
   "outputs": [],
   "source": [
    "def create_dir(path):\n",
    "    if not os.path.exists(path):\n",
    "        os.makedirs(path)"
   ]
  },
  {
   "cell_type": "code",
   "execution_count": 7,
   "id": "58ef3aa5-3b8b-44fd-8ae0-a793761828de",
   "metadata": {},
   "outputs": [
    {
     "name": "stdout",
     "output_type": "stream",
     "text": [
      " args is :\n",
      "{   'batch_size': 64,\n",
      "    'cuda': False,\n",
      "    'data_file': 'names.csv',\n",
      "    'dropout_p': 0.1,\n",
      "    'early_stopping_criteria': 5,\n",
      "    'hidden_dim': 300,\n",
      "    'learning_rate': 0.001,\n",
      "    'model_state_file': 'model.pth',\n",
      "    'num_epochs': 20,\n",
      "    'save_dir': 'names',\n",
      "    'seed': 999,\n",
      "    'shuffle': True,\n",
      "    'split_data_file': 'split_names.csv',\n",
      "    'test_size': 0.15,\n",
      "    'train_size': 0.7,\n",
      "    'val_size': 0.15,\n",
      "    'vectorizer_file': 'vectorizer.json'}\n"
     ]
    }
   ],
   "source": [
    "args = Namespace(\n",
    "    seed = 999,\n",
    "    cuda = False,\n",
    "    shuffle = True,\n",
    "    data_file = \"names.csv\",\n",
    "    split_data_file = \"split_names.csv\",\n",
    "    vectorizer_file = \"vectorizer.json\",\n",
    "    model_state_file = \"model.pth\",\n",
    "    save_dir = \"names\",\n",
    "    train_size = 0.7,\n",
    "    val_size = 0.15,\n",
    "    test_size = 0.15,\n",
    "    num_epochs = 20,\n",
    "    early_stopping_criteria = 5,\n",
    "    learning_rate = 1e-3,\n",
    "    batch_size = 64,\n",
    "    hidden_dim = 300,\n",
    "    dropout_p = 0.1\n",
    ")\n",
    "\n",
    "print(\" args is :\")\n",
    "pprint.pprint(vars(args),indent=4)"
   ]
  },
  {
   "cell_type": "code",
   "execution_count": null,
   "id": "f1a5821a-3b53-4f66-a6a9-5c52ffa79b06",
   "metadata": {},
   "outputs": [],
   "source": [
    "set_seeds(args.seed,args.cuda)\n",
    "create_dir(args.save_dir)"
   ]
  }
 ],
 "metadata": {
  "kernelspec": {
   "display_name": "Python 3 (ipykernel)",
   "language": "python",
   "name": "python3"
  },
  "language_info": {
   "codemirror_mode": {
    "name": "ipython",
    "version": 3
   },
   "file_extension": ".py",
   "mimetype": "text/x-python",
   "name": "python",
   "nbconvert_exporter": "python",
   "pygments_lexer": "ipython3",
   "version": "3.12.7"
  }
 },
 "nbformat": 4,
 "nbformat_minor": 5
}
