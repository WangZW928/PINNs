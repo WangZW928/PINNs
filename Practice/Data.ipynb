{
 "cells": [
  {
   "cell_type": "code",
   "execution_count": 1,
   "id": "0e3019a5-443d-485d-9e00-e72a113e2b8a",
   "metadata": {},
   "outputs": [],
   "source": [
    "from argparse import Namespace\n",
    "import collections\n",
    "import json\n",
    "import matplotlib.pyplot as plt\n",
    "import numpy as np\n",
    "import pandas as pd\n",
    "import random\n",
    "import torch\n",
    "import pprint"
   ]
  },
  {
   "cell_type": "code",
   "execution_count": 2,
   "id": "04722c95-0caf-44ca-97a8-a5e8f169f77f",
   "metadata": {},
   "outputs": [],
   "source": [
    "def set_seeds(seed,cuda):\n",
    "    np.random.seed(seed)# when use np.random.rand() or np.random.randn()\n",
    "    torch.manual_seed(seed)# when use torch.rand() or torch.randn()\n",
    "    if cuda:\n",
    "        torch.cuda.manual_seed_all(seed)"
   ]
  },
  {
   "cell_type": "code",
   "execution_count": 3,
   "id": "9a8917f7-9e43-44b2-acf4-66cbe593ad47",
   "metadata": {},
   "outputs": [],
   "source": [
    "args = Namespace(\n",
    "    seed = 999,\n",
    "    cuda = True,\n",
    "    shuffle = True,\n",
    "    data_file = \"tumors.csv\",\n",
    "    reduced_data_file = \"tumors_reduced.csv\",\n",
    "    train_size = 0.75,\n",
    "    test_size = 0.25,\n",
    "    num_hidden_units = 100,\n",
    "    learning_rate = 1e-3,\n",
    "    num_epochs = 100,\n",
    ")"
   ]
  },
  {
   "cell_type": "code",
   "execution_count": 4,
   "id": "eb8125e5-f23d-4de8-befb-575f07f52e95",
   "metadata": {},
   "outputs": [],
   "source": [
    "if not torch.cuda.is_available():\n",
    "    args.cuda = False\n",
    "args.device = torch.device(\"cuda\" if args.cuda else \"cpu\")"
   ]
  },
  {
   "cell_type": "code",
   "execution_count": 5,
   "id": "5a3392c8-186a-4ea9-8e18-dfe9deb3860d",
   "metadata": {},
   "outputs": [
    {
     "name": "stdout",
     "output_type": "stream",
     "text": [
      "{   'cuda': True,\n",
      "    'data_file': 'tumors.csv',\n",
      "    'device': device(type='cuda'),\n",
      "    'learning_rate': 0.001,\n",
      "    'num_epochs': 100,\n",
      "    'num_hidden_units': 100,\n",
      "    'reduced_data_file': 'tumors_reduced.csv',\n",
      "    'seed': 999,\n",
      "    'shuffle': True,\n",
      "    'test_size': 0.25,\n",
      "    'train_size': 0.75}\n",
      "cuda\n"
     ]
    }
   ],
   "source": [
    "set_seeds(seed = args.seed,cuda=args.cuda)\n",
    "pprint.pprint(vars(args),indent=4)\n",
    "print(args.device)"
   ]
  },
  {
   "cell_type": "code",
   "execution_count": 7,
   "id": "3a74684c-865d-405c-9dd9-aacae0f67d74",
   "metadata": {},
   "outputs": [],
   "source": [
    "import re\n",
    "import urllib"
   ]
  },
  {
   "cell_type": "code",
   "execution_count": null,
   "id": "53daf819-19bc-45b7-bf68-470b63b1f0e9",
   "metadata": {},
   "outputs": [],
   "source": []
  }
 ],
 "metadata": {
  "kernelspec": {
   "display_name": "Python 3 (ipykernel)",
   "language": "python",
   "name": "python3"
  },
  "language_info": {
   "codemirror_mode": {
    "name": "ipython",
    "version": 3
   },
   "file_extension": ".py",
   "mimetype": "text/x-python",
   "name": "python",
   "nbconvert_exporter": "python",
   "pygments_lexer": "ipython3",
   "version": "3.12.7"
  }
 },
 "nbformat": 4,
 "nbformat_minor": 5
}
