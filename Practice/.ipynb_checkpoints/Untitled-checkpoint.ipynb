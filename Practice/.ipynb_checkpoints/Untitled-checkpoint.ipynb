{
 "cells": [
  {
   "cell_type": "code",
   "execution_count": 1,
   "id": "a933f490-635a-4a9e-b781-9561b07c8c7f",
   "metadata": {},
   "outputs": [],
   "source": [
    "import torch\n",
    "import numpy as np"
   ]
  },
  {
   "cell_type": "code",
   "execution_count": 8,
   "id": "1abf7b17-6467-4ce4-8878-f29771a0a042",
   "metadata": {},
   "outputs": [
    {
     "name": "stdout",
     "output_type": "stream",
     "text": [
      "torch.Size([4, 2])\n",
      "torch.FloatTensor\n",
      "tensor([[7.6082e+02, 0.0000e+00],\n",
      "        [0.0000e+00, 1.4013e-45],\n",
      "        [0.0000e+00, 4.5689e-41],\n",
      "        [1.3593e-43, 0.0000e+00]])\n"
     ]
    }
   ],
   "source": [
    "x = torch.Tensor(4,2)\n",
    "print(x.shape)\n",
    "print(x.type())\n",
    "print(x)"
   ]
  },
  {
   "cell_type": "code",
   "execution_count": 9,
   "id": "d1c920be-b0bc-4207-981e-a9f2b4cd7b06",
   "metadata": {},
   "outputs": [
    {
     "name": "stdout",
     "output_type": "stream",
     "text": [
      "tensor([[ 0.0748,  0.1619],\n",
      "        [ 0.5972, -0.1338],\n",
      "        [ 0.0478, -1.5460],\n",
      "        [-0.1676,  0.9807]])\n"
     ]
    }
   ],
   "source": [
    "x = torch.randn(4,2)\n",
    "print(x)"
   ]
  },
  {
   "cell_type": "code",
   "execution_count": 10,
   "id": "4c985c9e-199f-4ac8-91fd-e28e93e50ff5",
   "metadata": {},
   "outputs": [
    {
     "name": "stdout",
     "output_type": "stream",
     "text": [
      "tensor([[0.4931, 0.1041],\n",
      "        [0.4122, 0.5571],\n",
      "        [0.4320, 0.9778],\n",
      "        [0.5785, 0.7890]])\n"
     ]
    }
   ],
   "source": [
    "x = torch.rand(4,2)\n",
    "print(x)"
   ]
  },
  {
   "cell_type": "code",
   "execution_count": 11,
   "id": "02ee5131-59e5-4f91-aa46-432e81f1699a",
   "metadata": {},
   "outputs": [
    {
     "name": "stdout",
     "output_type": "stream",
     "text": [
      "tensor([[1., 1.],\n",
      "        [1., 1.],\n",
      "        [1., 1.],\n",
      "        [1., 1.]])\n"
     ]
    }
   ],
   "source": [
    "x = torch.ones(4,2)\n",
    "print(x)"
   ]
  },
  {
   "cell_type": "code",
   "execution_count": 12,
   "id": "4997ff99-1d6a-4cf9-b626-64e95695f726",
   "metadata": {},
   "outputs": [
    {
     "name": "stdout",
     "output_type": "stream",
     "text": [
      "tensor([[0., 0.],\n",
      "        [0., 0.],\n",
      "        [0., 0.],\n",
      "        [0., 0.]])\n"
     ]
    }
   ],
   "source": [
    "x = torch.zeros(4,2)\n",
    "print(x)"
   ]
  },
  {
   "cell_type": "code",
   "execution_count": 16,
   "id": "171ef13e-1b17-4bb3-bcd0-a8841477bca2",
   "metadata": {},
   "outputs": [
    {
     "name": "stdout",
     "output_type": "stream",
     "text": [
      "[2, 4, 6, 8]\n",
      "[1, 3, 5, 7]\n"
     ]
    }
   ],
   "source": [
    "l1 = []\n",
    "l2 = []\n",
    "for i in range(1,9):\n",
    "    if i%2 ==0 :\n",
    "        l1.append(i)\n",
    "    else:\n",
    "        l2.append(i)\n",
    "print(l1)\n",
    "print(l2)"
   ]
  },
  {
   "cell_type": "code",
   "execution_count": 20,
   "id": "f67bab75-a08c-4bd3-ae7a-aea02e767838",
   "metadata": {},
   "outputs": [
    {
     "name": "stdout",
     "output_type": "stream",
     "text": [
      "torch.Size([2, 4])\n",
      "torch.FloatTensor\n",
      "tensor([[2., 4., 6., 8.],\n",
      "        [1., 3., 5., 7.]])\n"
     ]
    }
   ],
   "source": [
    "x = torch.Tensor([l1,l2])\n",
    "print(x.shape)\n",
    "print(x.type())\n",
    "print(x)"
   ]
  },
  {
   "cell_type": "code",
   "execution_count": 27,
   "id": "b278435e-8f5f-4eba-b78e-5f234e1635e8",
   "metadata": {},
   "outputs": [
    {
     "name": "stdout",
     "output_type": "stream",
     "text": [
      "[[0.10171518 0.28806098]\n",
      " [0.33996625 0.32906927]\n",
      " [0.37225272 0.40432274]\n",
      " [0.95349824 0.42960099]]\n",
      "torch.Size([4, 2])\n",
      "torch.DoubleTensor\n",
      "tensor([[0.1017, 0.2881],\n",
      "        [0.3400, 0.3291],\n",
      "        [0.3723, 0.4043],\n",
      "        [0.9535, 0.4296]], dtype=torch.float64)\n",
      "torch.DoubleTensor\n"
     ]
    }
   ],
   "source": [
    "x = np.random.rand(4,2)\n",
    "print(x)\n",
    "x1 = torch.from_numpy(x)\n",
    "print(x1.shape)\n",
    "print(x1.type())\n",
    "print(x1)\n",
    "x1.long()\n",
    "print(x1.type())"
   ]
  },
  {
   "cell_type": "code",
   "execution_count": 29,
   "id": "7a22f0a1-7b67-4b8f-a020-a828189a7e45",
   "metadata": {},
   "outputs": [
    {
     "name": "stdout",
     "output_type": "stream",
     "text": [
      "tensor([[ 0.4662, -0.0544],\n",
      "        [-0.0651, -0.3349],\n",
      "        [-0.5802, -0.0664],\n",
      "        [-0.8581,  0.1816]])\n",
      "tensor([[1.4662, 0.9456],\n",
      "        [0.9349, 0.6651],\n",
      "        [0.4198, 0.9336],\n",
      "        [0.1419, 1.1816]])\n"
     ]
    }
   ],
   "source": [
    "x = torch.ones(4,2)\n",
    "y = torch.randn(4,2)\n",
    "print(y)\n",
    "print(x+y)"
   ]
  },
  {
   "cell_type": "code",
   "execution_count": 30,
   "id": "57f7e6c7-7225-4e33-8330-5926a0e0d671",
   "metadata": {},
   "outputs": [
    {
     "name": "stdout",
     "output_type": "stream",
     "text": [
      "torch.Size([4, 4])\n",
      "torch.Size([2, 2])\n"
     ]
    }
   ],
   "source": [
    "x = torch.randn(4,2)\n",
    "y = torch.randn(2,4)\n",
    "z = torch.mm(x,y)\n",
    "print(z.shape)\n",
    "k = torch.mm(y,x)\n",
    "print(k.shape)"
   ]
  },
  {
   "cell_type": "code",
   "execution_count": 31,
   "id": "f745950e-8fb9-4a84-bdb4-7713087afcd1",
   "metadata": {},
   "outputs": [
    {
     "name": "stdout",
     "output_type": "stream",
     "text": [
      "tensor([[ 1.2917, -0.0511,  1.4528, -2.0950],\n",
      "        [-0.0511,  0.4340,  0.1921, -1.1922],\n",
      "        [ 1.4528,  0.1921,  1.7781, -3.0931],\n",
      "        [-2.0950, -1.1922, -3.0931,  7.1624]])\n"
     ]
    }
   ],
   "source": [
    "x = torch.randn(4,2)\n",
    "y = torch.t(x)\n",
    "z = torch.mm(x,y)\n",
    "print(z)"
   ]
  },
  {
   "cell_type": "code",
   "execution_count": 33,
   "id": "01942f5e-c10e-49a3-b4df-f8bdbf132f6b",
   "metadata": {},
   "outputs": [
    {
     "name": "stdout",
     "output_type": "stream",
     "text": [
      "tensor([[-0.8754],\n",
      "        [-0.8275],\n",
      "        [ 2.7683],\n",
      "        [ 0.2496]])\n",
      "tensor([[-0.8754, -0.8275],\n",
      "        [ 2.7683,  0.2496]])\n",
      "tensor([[-0.8754, -0.8275,  2.7683,  0.2496]])\n"
     ]
    }
   ],
   "source": [
    "x = torch.randn(4,1)\n",
    "print(x)\n",
    "print(x.view(2,2))\n",
    "print(x.view(1,4))"
   ]
  },
  {
   "cell_type": "code",
   "execution_count": 34,
   "id": "0bb75ba8-c6ff-475b-b802-9d3efed6af06",
   "metadata": {},
   "outputs": [
    {
     "name": "stdout",
     "output_type": "stream",
     "text": [
      "tensor([[1., 1.],\n",
      "        [1., 1.],\n",
      "        [1., 1.],\n",
      "        [1., 1.]])\n",
      "tensor([4., 4.])\n",
      "tensor([2., 2., 2., 2.])\n"
     ]
    }
   ],
   "source": [
    "x = torch.ones(4,2)\n",
    "print(x)\n",
    "z = torch.sum(x,dim = 0)\n",
    "print(z)\n",
    "z = torch.sum(x,dim = 1)\n",
    "print(z)"
   ]
  },
  {
   "cell_type": "code",
   "execution_count": null,
   "id": "adcccf29-8efc-498a-8ebe-69d0f9602837",
   "metadata": {},
   "outputs": [],
   "source": []
  }
 ],
 "metadata": {
  "kernelspec": {
   "display_name": "Python 3 (ipykernel)",
   "language": "python",
   "name": "python3"
  },
  "language_info": {
   "codemirror_mode": {
    "name": "ipython",
    "version": 3
   },
   "file_extension": ".py",
   "mimetype": "text/x-python",
   "name": "python",
   "nbconvert_exporter": "python",
   "pygments_lexer": "ipython3",
   "version": "3.12.7"
  }
 },
 "nbformat": 4,
 "nbformat_minor": 5
}
